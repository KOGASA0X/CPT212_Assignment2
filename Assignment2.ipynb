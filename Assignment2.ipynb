{
 "cells": [
  {
   "cell_type": "code",
   "execution_count": 1,
   "metadata": {},
   "outputs": [],
   "source": [
    "def build_bad_char_table(pattern):\n",
    "\n",
    "    #构建坏字符表，该表记录模式字符串中每个字符最后出现的索引位置。\n",
    "    \n",
    "    bad_char_table = {}\n",
    "    for index, char in enumerate(pattern):\n",
    "        bad_char_table[char] = index\n",
    "    return bad_char_table\n"
   ]
  },
  {
   "cell_type": "code",
   "execution_count": null,
   "metadata": {},
   "outputs": [],
   "source": [
    "def build_good_suffix_table(pattern):\n",
    "    \n",
    "    #构建好后缀表。\n",
    "    \n",
    "    length = len(pattern)\n",
    "    good_suffix_table = [0] * length\n",
    "    last_prefix_position = length\n",
    "\n",
    "    # Process each position in the pattern\n",
    "    for i in range(length):\n",
    "        # Check if the suffix of pattern starting from i is a prefix of the whole pattern\n",
    "        if is_prefix(pattern, i):\n",
    "            last_prefix_position = i\n",
    "        good_suffix_table[length - 1 - i] = last_prefix_position - i + length - 1\n",
    "\n",
    "    # Handle case where the pattern is repeated\n",
    "    for i in range(length - 1):\n",
    "        len_suffix = suffix_length(pattern, i)\n",
    "        good_suffix_table[len_suffix] = length - 1 - i + len_suffix\n",
    "\n",
    "    return good_suffix_table\n",
    "\n",
    "def is_prefix(pattern, p):\n",
    "    \n",
    "    #判断从位置p到模式末尾的子串是否是模式的前缀。\n",
    "    \n",
    "    length = len(pattern)\n",
    "    j = 0\n",
    "    while p + j < length:\n",
    "        if pattern[p + j] != pattern[j]:\n",
    "            return False\n",
    "        j += 1\n",
    "    return True\n",
    "\n",
    "def suffix_length(pattern, p):\n",
    "    \n",
    "    #计算以位置p为右端点的后缀与模式的前缀的最长匹配长度。\n",
    "    \n",
    "    length = len(pattern)\n",
    "    i = 0\n",
    "    while p - i >= 0 and pattern[p - i] == pattern[length - 1 - i]:\n",
    "        i += 1\n",
    "    return i\n"
   ]
  },
  {
   "cell_type": "code",
   "execution_count": null,
   "metadata": {},
   "outputs": [],
   "source": [
    "def boyer_moore(text, pattern):\n",
    "    \n",
    "    #使用 Boyer-Moore 算法搜索文本中的所有模式出现位置。\n",
    "    \n",
    "    bad_char = build_bad_char_table(pattern)\n",
    "    good_suffix = build_good_suffix_table(pattern)\n",
    "    m = len(pattern)\n",
    "    n = len(text)\n",
    "    positions = []\n",
    "\n",
    "    s = 0\n",
    "    while(s <= n - m):\n",
    "        j = m - 1\n",
    "        while j >= 0 and pattern[j] == text[s + j]:\n",
    "            j -= 1\n",
    "        if j < 0:\n",
    "            positions.append(s)\n",
    "            s += (good_suffix[0] if s + m < n else 1)\n",
    "        else:\n",
    "            bad_char_shift = bad_char.get(text[s + j], -1)\n",
    "            s += max(1, j - bad_char_shift, good_suffix[j])\n",
    "\n",
    "    return positions\n"
   ]
  }
 ],
 "metadata": {
  "kernelspec": {
   "display_name": "Python 3",
   "language": "python",
   "name": "python3"
  },
  "language_info": {
   "codemirror_mode": {
    "name": "ipython",
    "version": 3
   },
   "file_extension": ".py",
   "mimetype": "text/x-python",
   "name": "python",
   "nbconvert_exporter": "python",
   "pygments_lexer": "ipython3",
   "version": "3.10.13"
  }
 },
 "nbformat": 4,
 "nbformat_minor": 2
}
